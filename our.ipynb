{
 "cells": [
  {
   "cell_type": "code",
   "execution_count": 1,
   "metadata": {},
   "outputs": [
    {
     "name": "stderr",
     "output_type": "stream",
     "text": [
      "/home/mousa/anaconda3/lib/python3.7/site-packages/ipykernel_launcher.py:8: UserWarning: \n",
      "The dash_core_components package is deprecated. Please replace\n",
      "`import dash_core_components as dcc` with `from dash import dcc`\n",
      "  \n",
      "/home/mousa/anaconda3/lib/python3.7/site-packages/ipykernel_launcher.py:9: UserWarning: \n",
      "The dash_html_components package is deprecated. Please replace\n",
      "`import dash_html_components as html` with `from dash import html`\n",
      "  if __name__ == '__main__':\n"
     ]
    }
   ],
   "source": [
    "import os\n",
    "import arrow\n",
    "import dash\n",
    "import chart_studio\n",
    "import requests\n",
    "from flask import Flask, json\n",
    "import pandas as pd\n",
    "import dash_core_components as dcc\n",
    "import dash_html_components as html\n",
    "import functools\n",
    "from dash.dependencies import Input, Output\n",
    "from dotenv import load_dotenv\n",
    "import dash_bootstrap_components as dbc\n",
    "import plotly.graph_objs as go\n",
    "import plotly.express as px\n"
   ]
  },
  {
   "cell_type": "code",
   "execution_count": null,
   "metadata": {},
   "outputs": [],
   "source": []
  },
  {
   "cell_type": "code",
   "execution_count": 2,
   "metadata": {},
   "outputs": [
    {
     "data": {
      "text/plain": [
       "True"
      ]
     },
     "execution_count": 2,
     "metadata": {},
     "output_type": "execute_result"
    }
   ],
   "source": [
    "dotenv_path = os.path.join(os.path.dirname('example'), \".env\")\n",
    "load_dotenv(dotenv_path)"
   ]
  },
  {
   "cell_type": "code",
   "execution_count": 3,
   "metadata": {},
   "outputs": [],
   "source": [
    "def create_dataframe(d):\n",
    "    features = d[\"features\"]\n",
    "    properties = [x[\"properties\"] for x in features]\n",
    "    geometries = [x[\"geometry\"] for x in features]\n",
    "    coordinates = [x[\"coordinates\"] for x in geometries]\n",
    "    times = [convert_timestamp(x[\"time\"]) for x in properties]\n",
    "    dd = {\n",
    "        \"Place\": [x[\"place\"] for x in properties],\n",
    "        \"Magnitude\": [x[\"mag\"] for x in properties],\n",
    "        \"Time\": times,\n",
    "        \"Detail\": [x[\"detail\"] for x in properties],\n",
    "        \"Longitude\": [x[0] for x in coordinates],\n",
    "        \"Latitude\": [x[1] for x in coordinates],\n",
    "        \"Depth\": [x[2] for x in coordinates],\n",
    "    }\n",
    "    # html text to display when hovering\n",
    "    texts = list()\n",
    "    for i in range(len(properties)):\n",
    "        text = \"{}<br>{}<br>Magnitude: {}<br>Depth: {} km\".format(\n",
    "            dd[\"Time\"][i], dd[\"Place\"][i], dd[\"Magnitude\"][i], dd[\"Depth\"][i]\n",
    "        )\n",
    "        texts.append(text)\n",
    "    dd.update({\"Text\": texts})\n",
    "    return pd.DataFrame(dd)\n"
   ]
  },
  {
   "cell_type": "code",
   "execution_count": 4,
   "metadata": {},
   "outputs": [],
   "source": [
    "def convert_timestamp(timestamp_ms):\n",
    "    return arrow.get(timestamp_ms / 1000.0).format()\n"
   ]
  },
  {
   "cell_type": "code",
   "execution_count": 5,
   "metadata": {},
   "outputs": [],
   "source": [
    "def create_metadata(d):\n",
    "    dd = {\n",
    "        \"title\": d[\"metadata\"][\"title\"],\n",
    "        \"api\": d[\"metadata\"][\"api\"],\n",
    "    }\n",
    "    return dd"
   ]
  },
  {
   "cell_type": "code",
   "execution_count": 6,
   "metadata": {},
   "outputs": [],
   "source": [
    "usgs = \"http://earthquake.usgs.gov/earthquakes/\"\n",
    "geoJsonFeed = \"feed/v1.0/summary/4.5_month.geojson\"\n",
    "url = \"{}{}\".format(usgs, geoJsonFeed)\n",
    "req = requests.get(url)\n",
    "data = json.loads(req.text)"
   ]
  },
  {
   "cell_type": "code",
   "execution_count": 7,
   "metadata": {},
   "outputs": [
    {
     "name": "stdout",
     "output_type": "stream",
     "text": [
      "                              Place  Magnitude                       Time  \\\n",
      "0           23 km NW of Pullo, Peru        5.2  2021-10-29 19:55:26+00:00   \n",
      "1           Kermadec Islands region        5.7  2021-10-29 19:42:31+00:00   \n",
      "2  southeast of the Loyalty Islands        4.7  2021-10-29 18:55:25+00:00   \n",
      "3         south of the Fiji Islands        4.6  2021-10-29 15:23:23+00:00   \n",
      "4   164 km N of Pangnirtung, Canada        4.7  2021-10-29 13:48:57+00:00   \n",
      "\n",
      "                                              Detail  Longitude  Latitude  \\\n",
      "0  https://earthquake.usgs.gov/earthquakes/feed/v...   -74.0054  -15.0824   \n",
      "1  https://earthquake.usgs.gov/earthquakes/feed/v...  -176.3393  -29.3901   \n",
      "2  https://earthquake.usgs.gov/earthquakes/feed/v...   171.6169  -22.7973   \n",
      "3  https://earthquake.usgs.gov/earthquakes/feed/v...  -179.6933  -23.8315   \n",
      "4  https://earthquake.usgs.gov/earthquakes/feed/v...   -65.9352   67.6180   \n",
      "\n",
      "    Depth                                               Text  \n",
      "0   72.70  2021-10-29 19:55:26+00:00<br>23 km NW of Pullo...  \n",
      "1   10.00  2021-10-29 19:42:31+00:00<br>Kermadec Islands ...  \n",
      "2   10.00  2021-10-29 18:55:25+00:00<br>southeast of the ...  \n",
      "3  536.76  2021-10-29 15:23:23+00:00<br>south of the Fiji...  \n",
      "4   10.00  2021-10-29 13:48:57+00:00<br>164 km N of Pangn...  \n"
     ]
    }
   ],
   "source": [
    "dataframe = create_dataframe(data)\n",
    "metadata = create_metadata(data)\n",
    "print(dataframe.head())"
   ]
  },
  {
   "cell_type": "code",
   "execution_count": null,
   "metadata": {},
   "outputs": [],
   "source": []
  },
  {
   "cell_type": "code",
   "execution_count": 8,
   "metadata": {},
   "outputs": [],
   "source": [
    "# http://colorbrewer2.org/#type=sequential&scheme=YlOrRd&n=5\n",
    "colorscale_magnitude = [\n",
    "    [0, \"#ffffb2\"],\n",
    "    [0.25, \"#fecc5c\"],\n",
    "    [0.5, \"#fd8d3c\"],\n",
    "    [0.75, \"#f03b20\"],\n",
    "    [1, \"#bd0026\"],\n",
    "]\n",
    "\n",
    "# http://colorbrewer2.org/#type=sequential&scheme=Greys&n=3\n",
    "colorscale_depth = [\n",
    "    [0, 'rgb(240,240,240)'],\n",
    "    [0.5, 'rgb(189,189,189)'],\n",
    "    [1, 'rgb(99,99,99)']\n",
    "]\n",
    "\n",
    "theme = {\n",
    "    \"fontFamily\": \"Raleway\",\n",
    "    \"backgroundColor\": \"#787878\",\n",
    "}\n",
    "\n",
    "\n",
    "\n"
   ]
  },
  {
   "cell_type": "code",
   "execution_count": null,
   "metadata": {},
   "outputs": [],
   "source": []
  },
  {
   "cell_type": "code",
   "execution_count": 9,
   "metadata": {},
   "outputs": [],
   "source": [
    "def create_td(series, col):\n",
    "    val = series[col]\n",
    "    if col == \"Detail\":\n",
    "        td = html.Td(html.A(children=\"GeoJSON\", href=\"{}\".format(val), target=\"_blank\"))\n",
    "    else:\n",
    "        td = html.Td(val,style={'color':'black','border-color':'black'})\n",
    "    return td"
   ]
  },
  {
   "cell_type": "code",
   "execution_count": 10,
   "metadata": {},
   "outputs": [],
   "source": [
    "def create_table(df):\n",
    "    columns = [\"Magnitude\", \"Latitude\", \"Longitude\", \"Time\", \"Place\", \"Detail\"]\n",
    "    num_rows = data[\"metadata\"][\"count\"]\n",
    "    thead = html.Thead(html.Tr([html.Th(col) for col in columns]),style={'color':'black'})\n",
    "    table_rows = list()\n",
    "    for i in range(num_rows):\n",
    "        tr = html.Tr(\n",
    "            children=list(map(functools.partial(create_td, df.iloc[i]), columns))\n",
    "        )\n",
    "        table_rows.append(tr)\n",
    "    tbody = html.Tbody(children=table_rows)\n",
    "    table = html.Table(children=[thead, tbody], id=\"my-table\")\n",
    "    return table"
   ]
  },
  {
   "cell_type": "code",
   "execution_count": 11,
   "metadata": {},
   "outputs": [],
   "source": [
    "def create_header(some_string):\n",
    "    header_style = {\n",
    "        \"backgroundColor\": theme[\"backgroundColor\"],\n",
    "        \"padding\": \"1.5rem\",\n",
    "    }\n",
    "    header = html.Header(html.H1(children=some_string, style=header_style))\n",
    "    return header"
   ]
  },
  {
   "cell_type": "code",
   "execution_count": 12,
   "metadata": {},
   "outputs": [],
   "source": [
    "def create_footer():\n",
    "    p = html.P(\n",
    "        children=[\n",
    "            html.Span(\"Built By :\"),\n",
    "            html.Span('Mohamed Mousa',style={'color':'white','font-family':'Times New Roman'}),\n",
    "            html.Span(\" and \"),\n",
    "            html.Span('Belal Ashraf',style={'color':'white','font-family':'Times New Roman'})\n",
    "        ],\n",
    "    )\n",
    "\n",
    "    span_style = {\"verticalAlign\": \"top\", \"paddingLeft\": \"1rem\"}\n",
    "\n",
    "    \n",
    "\n",
    "\n",
    "    li_right_first = {\"lineStyleType\": \"none\", \"display\": \"inlineBlock\"}\n",
    "    li_right_others = {k: v for k, v in li_right_first.items()}\n",
    "    li_right_others.update({\"marginLeft\": \"10px\"})\n",
    "    \n",
    "\n",
    "    div = html.Div([p])\n",
    "    footer_style = {\n",
    "        \"fontSize\": \"2.2rem\",\n",
    "        \"backgroundColor\": theme[\"backgroundColor\"],\n",
    "        \"padding\": \"2.5rem\",\n",
    "        \"marginTop\": \"3rem\",\n",
    "    }\n",
    "    footer = html.Footer(div, style=footer_style)\n",
    "    return footer\n",
    "\n"
   ]
  },
  {
   "cell_type": "code",
   "execution_count": 13,
   "metadata": {},
   "outputs": [],
   "source": [
    "def create_dropdowns():\n",
    "    drop1 = dcc.Dropdown(\n",
    "        options=[\n",
    "            {\"label\": \"Light\", \"value\": \"light\"},\n",
    "            {\"label\": \"Dark\", \"value\": \"dark\"},\n",
    "            {\"label\": \"Satellite\", \"value\": \"satellite\"},\n",
    "            \n",
    "        ],\n",
    "        value=\"dark\",\n",
    "        id=\"dropdown-map-style\",\n",
    "        className=\"three columns offset-by-one\",\n",
    "    )\n",
    "    drop2 = dcc.Dropdown(\n",
    "        options=[\n",
    "            {\"label\": \"World\", \"value\": \"world\"},\n",
    "            {\"label\": \"Europe\", \"value\": \"europe\"},\n",
    "            {\"label\": \"North America\", \"value\": \"north_america\"},\n",
    "            {\"label\": \"South America\", \"value\": \"south_america\"},\n",
    "            {\"label\": \"Africa\", \"value\": \"africa\"},\n",
    "            {\"label\": \"Asia\", \"value\": \"asia\"},\n",
    "            {\"label\": \"Oceania\", \"value\": \"oceania\"},\n",
    "        ],\n",
    "        value=\"world\",\n",
    "        id=\"dropdown-region\",\n",
    "        className=\"three columns offset-by-four\",\n",
    "    )\n",
    "    return [drop1, drop2]\n"
   ]
  },
  {
   "cell_type": "code",
   "execution_count": 14,
   "metadata": {},
   "outputs": [],
   "source": [
    "def create_description():\n",
    "    div = html.Div(\n",
    "        children=[\n",
    "            dcc.Markdown(\n",
    "                \"\"\"\n",
    "            Use the table below to know more about the {} earthquakes that \n",
    "            exceeded magnitude 4.5 last month.\n",
    "\n",
    "            ***\n",
    "            \"\"\".format(\n",
    "                    data[\"metadata\"][\"count\"]\n",
    "                ).replace(\n",
    "                    \"  \", \"\"\n",
    "                )\n",
    "            ),\n",
    "        ],\n",
    "    )\n",
    "    return div"
   ]
  },
  {
   "cell_type": "code",
   "execution_count": 15,
   "metadata": {},
   "outputs": [],
   "source": [
    "def create_content(df):\n",
    "    # create empty figure. It will be updated when _update_graph is triggered\n",
    "    px.set_mapbox_access_token('pk.eyJ1IjoiYW1yLWthc2VtLWI1NyIsImEiOiJja3VtZW52aHgwc2RmMnFtb2ljYm56aWFwIn0.PBQ3U_2nlEgoqtcnzIrMDw')\n",
    "    # can get API key from  \"https://chart-studio.plotly.com/feed/#/\"  \n",
    "    fig= px.scatter_mapbox(df, hover_name='Place', lat='Latitude',\n",
    "                                        lon='Longitude',mapbox_style='satellite',text=df['Magnitude']\n",
    "\n",
    "                            )\n",
    "    graph = dcc.Graph(id=\"geo\",figure=fig)\n",
    "    content = html.Div(graph, id=\"content\")\n",
    "    return content"
   ]
  },
  {
   "cell_type": "code",
   "execution_count": 16,
   "metadata": {},
   "outputs": [],
   "source": [
    "regions = {\n",
    "    \"world\": {\"lat\": 0, \"lon\": 0, \"zoom\": 1},\n",
    "    \"europe\": {\"lat\": 50, \"lon\": 0, \"zoom\": 3},\n",
    "    \"north_america\": {\"lat\": 40, \"lon\": -100, \"zoom\": 2},\n",
    "    \"south_america\": {\"lat\": -15, \"lon\": -60, \"zoom\": 2},\n",
    "    \"africa\": {\"lat\": 0, \"lon\": 20, \"zoom\": 2},\n",
    "    \"asia\": {\"lat\": 30, \"lon\": 100, \"zoom\": 2},\n",
    "    \"oceania\": {\"lat\": -10, \"lon\": 130, \"zoom\": 2},\n",
    "}\n"
   ]
  },
  {
   "cell_type": "code",
   "execution_count": 17,
   "metadata": {},
   "outputs": [],
   "source": [
    "app_name = \"World Earthquakes Live\"\n",
    "\n",
    "app = dash.Dash(name=app_name , title='Mousa&belal_World_Earthquakes_Live')\n",
    "\n",
    "app.layout = html.Div(\n",
    "    children=[\n",
    "         create_header(app_name),\n",
    "        html.Div(\n",
    "            children=[\n",
    "                 html.Div(create_dropdowns(), className=\"row\"),\n",
    "                 html.Div(create_content(dataframe), className=\"row\"),\n",
    "                 html.Div(create_description(), className=\"row\"),\n",
    "                 html.Div(create_table(dataframe), className=\"row\"),\n",
    "            ],\n",
    "        ),\n",
    "         html.Hr(),\n",
    "         create_footer(),\n",
    "    ],\n",
    "    className=\"container\",\n",
    "    style={\"fontFamily\": theme[\"fontFamily\"]},\n",
    ")\n",
    "\n"
   ]
  },
  {
   "cell_type": "code",
   "execution_count": 18,
   "metadata": {},
   "outputs": [],
   "source": [
    "@app.callback(\n",
    "    output=Output(\"geo\", \"figure\"),\n",
    "    inputs=[Input(\"dropdown-map-style\", \"value\"), Input(\"dropdown-region\", \"value\")],\n",
    ")\n",
    "\n",
    "def _update_graph(map_style, region):\n",
    "    dff = dataframe\n",
    "    radius_multiplier = {\"inner\": 1.5, \"outer\": 3}\n",
    "    mapbox_access_token='pk.eyJ1IjoiYmVsYWxsbCIsImEiOiJja3Y2aXJ2YTAxOHd5MnJsdXpnaW5wYXY1In0.1AvWAZxF8v624NlWEgEMLQ'\n",
    "\n",
    "    layout = go.Layout(\n",
    "        title=metadata[\"title\"],\n",
    "        autosize=True,\n",
    "        hovermode=\"closest\",\n",
    "        height=750,\n",
    "        font=dict(family=theme[\"fontFamily\"]),\n",
    "        margin=go.layout.Margin(l=0, r=0, t=45, b=10),\n",
    "        mapbox=dict(\n",
    "            accesstoken=mapbox_access_token,\n",
    "            bearing=0,\n",
    "            center=dict(\n",
    "                lat=regions[region][\"lat\"],\n",
    "                lon=regions[region][\"lon\"],\n",
    "            ),\n",
    "            pitch=0,\n",
    "            zoom=regions[region][\"zoom\"],\n",
    "            style=map_style,\n",
    "        ),\n",
    "    )\n",
    "\n",
    "    # outer circles represent magnitude\n",
    "    # inner circles represent depth\n",
    "    data = (\n",
    "        go.Scattermapbox(\n",
    "            lat=dff[\"Latitude\"],\n",
    "            lon=dff[\"Longitude\"],\n",
    "            mode=\"markers\",\n",
    "            marker=go.scattermapbox.Marker(\n",
    "                color=dff[\"Magnitude\"],\n",
    "                colorscale=colorscale_magnitude,\n",
    "                opacity=1,\n",
    "                # showscale=True,\n",
    "                size=dff[\"Magnitude\"] * radius_multiplier[\"outer\"],\n",
    "            ),\n",
    "            text=dff[\"Text\"],\n",
    "            # hoverinfo='text',\n",
    "            showlegend=True,\n",
    "        ),\n",
    "        go.Scattermapbox(\n",
    "            lat=dff[\"Latitude\"],\n",
    "            lon=dff[\"Longitude\"],\n",
    "            mode=\"markers\",\n",
    "            marker=go.scattermapbox.Marker(\n",
    "                color=dff[\"Depth\"],\n",
    "                colorscale=colorscale_depth,\n",
    "                opacity=1,\n",
    "                # showscale=True,\n",
    "                size=dff[\"Magnitude\"] * radius_multiplier[\"inner\"],\n",
    "            ),\n",
    "            # hovering behavior is already handled by outer circles\n",
    "            hoverinfo=\"skip\",\n",
    "            showlegend=True,\n",
    "        ),\n",
    "    )\n",
    "\n",
    "    figure = go.Figure(data=data, layout=layout)\n",
    "    return figure\n"
   ]
  },
  {
   "cell_type": "code",
   "execution_count": null,
   "metadata": {},
   "outputs": [],
   "source": []
  },
  {
   "cell_type": "code",
   "execution_count": null,
   "metadata": {},
   "outputs": [],
   "source": []
  },
  {
   "cell_type": "code",
   "execution_count": 20,
   "metadata": {},
   "outputs": [
    {
     "name": "stdout",
     "output_type": "stream",
     "text": [
      "Dash is running on http://127.0.0.1:8080/\n",
      "\n",
      " * Serving Flask app \"World Earthquakes Live\" (lazy loading)\n",
      " * Environment: production\n",
      "   WARNING: This is a development server. Do not use it in a production deployment.\n",
      "   Use a production WSGI server instead.\n",
      " * Debug mode: off\n"
     ]
    },
    {
     "name": "stderr",
     "output_type": "stream",
     "text": [
      " * Running on http://127.0.0.1:8080/ (Press CTRL+C to quit)\n"
     ]
    }
   ],
   "source": [
    "app.run_server(port=8080, threaded=True)\n"
   ]
  },
  {
   "cell_type": "code",
   "execution_count": null,
   "metadata": {},
   "outputs": [],
   "source": []
  }
 ],
 "metadata": {
  "kernelspec": {
   "display_name": "Python 3",
   "language": "python",
   "name": "python3"
  },
  "language_info": {
   "codemirror_mode": {
    "name": "ipython",
    "version": 3
   },
   "file_extension": ".py",
   "mimetype": "text/x-python",
   "name": "python",
   "nbconvert_exporter": "python",
   "pygments_lexer": "ipython3",
   "version": "3.7.6"
  }
 },
 "nbformat": 4,
 "nbformat_minor": 4
}
